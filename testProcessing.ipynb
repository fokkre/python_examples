{
 "cells": [
  {
   "cell_type": "code",
   "execution_count": 18,
   "metadata": {},
   "outputs": [
    {
     "name": "stdout",
     "output_type": "stream",
     "text": [
      "[41, 290, 393, 11, 506, 324, 190, 179, 432, 220]\n",
      "['855563', '89143602', '903516', '84610002', '91544001', '89511501', '874858', '873586', '908194', '8812816']\n"
     ]
    }
   ],
   "source": [
    "import os\n",
    "import random\n",
    "\n",
    "FOLDER = \"data/\"\n",
    "Filename = os.listdir(FOLDER)\n",
    "\n",
    "patientData = {}\n",
    "\n",
    "for file in Filename:\n",
    "    data = []\n",
    "    with open (FOLDER + file) as csvfile:\n",
    "        data = csvfile.readlines()\n",
    "\n",
    "        for line in range(1, len(data)):\n",
    "            results = data[line].strip().split(',')\n",
    "            id = results[0]\n",
    "            results.pop(0)\n",
    "            if id not in patientData:\n",
    "                patientData[id] = [results]\n",
    "            patientData[id].append(results)\n",
    "\n",
    "record_count_request = 10\n",
    "random_index = []\n",
    "random_records = []\n",
    "i = 0\n",
    "\n",
    "while i < record_count_request:\n",
    "    random_index.append(random.randrange(1,570))\n",
    "    i+=1\n",
    "\n",
    "for index in random_index:\n",
    "    random_records.append(list(patientData.keys())[index])\n",
    "\n",
    "print(random_index)\n",
    "print(random_records)"
   ]
  }
 ],
 "metadata": {
  "kernelspec": {
   "display_name": "Python 3",
   "language": "python",
   "name": "python3"
  },
  "language_info": {
   "codemirror_mode": {
    "name": "ipython",
    "version": 3
   },
   "file_extension": ".py",
   "mimetype": "text/x-python",
   "name": "python",
   "nbconvert_exporter": "python",
   "pygments_lexer": "ipython3",
   "version": "3.11.5"
  }
 },
 "nbformat": 4,
 "nbformat_minor": 2
}
